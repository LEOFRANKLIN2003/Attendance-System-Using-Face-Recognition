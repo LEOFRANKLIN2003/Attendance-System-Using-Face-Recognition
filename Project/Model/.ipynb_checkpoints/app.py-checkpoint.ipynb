{
 "cells": [
  {
   "cell_type": "code",
   "execution_count": 3,
   "id": "faa99b1c",
   "metadata": {},
   "outputs": [],
   "source": [
    "from flask import Flask, render_template, request, redirect, url_for\n",
    "import os\n",
    "import cv2\n",
    "import csv\n",
    "import time\n",
    "import imutils\n",
    "\n"
   ]
  },
  {
   "cell_type": "code",
   "execution_count": 4,
   "id": "df442b91",
   "metadata": {},
   "outputs": [
    {
     "name": "stdout",
     "output_type": "stream",
     "text": [
      " * Serving Flask app \"__main__\" (lazy loading)\n",
      " * Environment: production\n",
      "\u001b[31m   WARNING: This is a development server. Do not use it in a production deployment.\u001b[0m\n",
      "\u001b[2m   Use a production WSGI server instead.\u001b[0m\n",
      " * Debug mode: on\n"
     ]
    },
    {
     "name": "stderr",
     "output_type": "stream",
     "text": [
      " * Restarting with watchdog (windowsapi)\n"
     ]
    },
    {
     "ename": "SystemExit",
     "evalue": "1",
     "output_type": "error",
     "traceback": [
      "An exception has occurred, use %tb to see the full traceback.\n",
      "\u001b[1;31mSystemExit\u001b[0m\u001b[1;31m:\u001b[0m 1\n"
     ]
    },
    {
     "name": "stderr",
     "output_type": "stream",
     "text": [
      "C:\\Users\\frank\\anaconda3\\lib\\site-packages\\IPython\\core\\interactiveshell.py:3377: UserWarning: To exit: use 'exit', 'quit', or Ctrl-D.\n",
      "  warn(\"To exit: use 'exit', 'quit', or Ctrl-D.\", stacklevel=1)\n"
     ]
    }
   ],
   "source": [
    "app = Flask(__name__)\n",
    "\n",
    "cascade = 'D:\\project\\haarcascade_frontalface_default.xml'\n",
    "detector = cv2.CascadeClassifier(cascade)\n",
    "\n",
    "dataset = 'D:\\project\\Dataset'\n",
    "csv_file = 'D:\\project\\student.csv'\n",
    "\n",
    "@app.route('/')\n",
    "def index():\n",
    "    return render_template('index.html')\n",
    "\n",
    "@app.route('/capture', methods=['POST'])\n",
    "def capture():\n",
    "    Name = request.form['name']\n",
    "    Roll_Number = request.form['roll_number']\n",
    "    \n",
    "    sub_data = Name\n",
    "    path = os.path.join(dataset, sub_data)\n",
    "\n",
    "    if not os.path.isdir(path):\n",
    "        os.mkdir(path)\n",
    "\n",
    "    info = [Name, Roll_Number]\n",
    "    with open(csv_file, 'a', newline='') as csvFile:\n",
    "        write = csv.writer(csvFile)\n",
    "        write.writerow(info)\n",
    "\n",
    "    return redirect(url_for('video_feed', name=Name))\n",
    "\n",
    "def gen_frames(name):\n",
    "    cam = cv2.VideoCapture(0)\n",
    "    time.sleep(2.0)\n",
    "    total = 0\n",
    "\n",
    "    while total < 200:\n",
    "        ret, frame = cam.read()\n",
    "        \n",
    "        if not ret:\n",
    "            break\n",
    "        \n",
    "        img = imutils.resize(frame, width=400)\n",
    "        rects = detector.detectMultiScale(\n",
    "            cv2.cvtColor(img, cv2.COLOR_BGR2GRAY), scaleFactor=1.1,\n",
    "            minNeighbors=5, minSize=(30, 30))\n",
    "\n",
    "        for (x, y, w, h) in rects:\n",
    "            cv2.rectangle(frame, (x, y), (x + w, y + h), (0, 255, 0), 2)\n",
    "            p = os.path.sep.join([os.path.join(dataset, name), \"{}.png\".format(str(total).zfill(5))])\n",
    "            cv2.imwrite(p, img)\n",
    "            total += 1\n",
    "\n",
    "        ret, jpeg = cv2.imencode('.jpg', frame)\n",
    "        frame_bytes = jpeg.tobytes()\n",
    "        yield (b'--frame\\r\\n'\n",
    "               b'Content-Type: image/jpeg\\r\\n\\r\\n' + frame_bytes + b'\\r\\n')\n",
    "\n",
    "    cam.release()\n",
    "\n",
    "@app.route('/video_feed/<name>')\n",
    "def video_feed(name):\n",
    "    return render_template('video_feed.html', name=name)\n",
    "\n",
    "@app.route('/video_feed_viewer/<name>')\n",
    "def video_feed_viewer(name):\n",
    "    return Response(gen_frames(name), mimetype='multipart/x-mixed-replace; boundary=frame')\n",
    "\n",
    "if __name__ == '__main__':\n",
    "    app.run(debug=True)\n"
   ]
  },
  {
   "cell_type": "code",
   "execution_count": null,
   "id": "b2a20bb1",
   "metadata": {},
   "outputs": [
    {
     "name": "stderr",
     "output_type": "stream",
     "text": [
      " * Running on http://localhost:5000/ (Press CTRL+C to quit)\n",
      "127.0.0.1 - - [14/Jun/2024 10:35:10] \"GET / HTTP/1.1\" 200 -\n",
      "127.0.0.1 - - [14/Jun/2024 10:35:11] \"GET /static/css/style.css HTTP/1.1\" 200 -\n",
      "127.0.0.1 - - [14/Jun/2024 10:35:11] \"GET /favicon.ico HTTP/1.1\" 404 -\n",
      "127.0.0.1 - - [14/Jun/2024 10:35:25] \"POST /capture HTTP/1.1\" 302 -\n",
      "127.0.0.1 - - [14/Jun/2024 10:35:25] \"GET /video_feed/Franklin HTTP/1.1\" 200 -\n",
      "127.0.0.1 - - [14/Jun/2024 10:35:26] \"GET /video_feed_viewer/Franklin HTTP/1.1\" 500 -\n",
      "Error on request:\n",
      "Traceback (most recent call last):\n",
      "  File \"C:\\Users\\frank\\anaconda3\\Lib\\site-packages\\werkzeug\\serving.py\", line 324, in run_wsgi\n",
      "    execute(self.server.app)\n",
      "  File \"C:\\Users\\frank\\anaconda3\\Lib\\site-packages\\werkzeug\\serving.py\", line 313, in execute\n",
      "    application_iter = app(environ, start_response)\n",
      "  File \"C:\\Users\\frank\\anaconda3\\Lib\\site-packages\\flask\\app.py\", line 2464, in __call__\n",
      "    return self.wsgi_app(environ, start_response)\n",
      "  File \"C:\\Users\\frank\\anaconda3\\Lib\\site-packages\\flask\\app.py\", line 2450, in wsgi_app\n",
      "    response = self.handle_exception(e)\n",
      "  File \"C:\\Users\\frank\\anaconda3\\Lib\\site-packages\\flask\\app.py\", line 1867, in handle_exception\n",
      "    reraise(exc_type, exc_value, tb)\n",
      "  File \"C:\\Users\\frank\\anaconda3\\Lib\\site-packages\\flask\\_compat.py\", line 39, in reraise\n",
      "    raise value\n",
      "  File \"C:\\Users\\frank\\anaconda3\\Lib\\site-packages\\flask\\app.py\", line 2447, in wsgi_app\n",
      "    response = self.full_dispatch_request()\n",
      "  File \"C:\\Users\\frank\\anaconda3\\Lib\\site-packages\\flask\\app.py\", line 1952, in full_dispatch_request\n",
      "    rv = self.handle_user_exception(e)\n",
      "  File \"C:\\Users\\frank\\anaconda3\\Lib\\site-packages\\flask\\app.py\", line 1821, in handle_user_exception\n",
      "    reraise(exc_type, exc_value, tb)\n",
      "  File \"C:\\Users\\frank\\anaconda3\\Lib\\site-packages\\flask\\_compat.py\", line 39, in reraise\n",
      "    raise value\n",
      "  File \"C:\\Users\\frank\\anaconda3\\Lib\\site-packages\\flask\\app.py\", line 1950, in full_dispatch_request\n",
      "    rv = self.dispatch_request()\n",
      "  File \"C:\\Users\\frank\\anaconda3\\Lib\\site-packages\\flask\\app.py\", line 1936, in dispatch_request\n",
      "    return self.view_functions[rule.endpoint](**req.view_args)\n",
      "  File \"C:\\Users\\frank\\AppData\\Local\\Temp\\ipykernel_18336\\1677634018.py\", line 66, in video_feed_viewer\n",
      "    \n",
      "NameError: name 'Response' is not defined\n"
     ]
    }
   ],
   "source": [
    "from werkzeug.serving import run_simple\n",
    "\n",
    "# Define host and port\n",
    "host = 'localhost'\n",
    "port = 5000\n",
    "\n",
    "# Run Flask app\n",
    "run_simple(host, port, app)\n"
   ]
  },
  {
   "cell_type": "code",
   "execution_count": null,
   "id": "58ff6064",
   "metadata": {},
   "outputs": [],
   "source": []
  }
 ],
 "metadata": {
  "kernelspec": {
   "display_name": "Python 3 (ipykernel)",
   "language": "python",
   "name": "python3"
  },
  "language_info": {
   "codemirror_mode": {
    "name": "ipython",
    "version": 3
   },
   "file_extension": ".py",
   "mimetype": "text/x-python",
   "name": "python",
   "nbconvert_exporter": "python",
   "pygments_lexer": "ipython3",
   "version": "3.9.12"
  }
 },
 "nbformat": 4,
 "nbformat_minor": 5
}
